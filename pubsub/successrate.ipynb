{
 "cells": [
  {
   "cell_type": "code",
   "execution_count": 41,
   "id": "4c249879",
   "metadata": {},
   "outputs": [],
   "source": [
    "import pandas as pd\n",
    "import datetime\n",
    "import statistics"
   ]
  },
  {
   "cell_type": "code",
   "execution_count": 10,
   "id": "1d82e3ab",
   "metadata": {},
   "outputs": [
    {
     "name": "stdout",
     "output_type": "stream",
     "text": [
      "filename:0306testdata.csv\n",
      "0           6\n",
      "1           7\n",
      "2           8\n",
      "3           9\n",
      "4          10\n",
      "         ... \n",
      "36428    1148\n",
      "36429    1110\n",
      "36430    1079\n",
      "36431    1114\n",
      "36432    1111\n",
      "Name: 送信番号, Length: 36433, dtype: int32\n",
      "                            時間 論理ID      タグID     中継器ID  送信番号 電波強度  電源電圧 piNo\n",
      "0      2023/03/06 17:40:46.219    1  8201A1C7  No Relay     6   78  2755    1\n",
      "1      2023/03/06 17:40:48.629    1  8201A1C7  No Relay     7  150  2750    1\n",
      "2      2023/03/06 17:40:51.271    1  8201A1C7  No Relay     8  132  2755    1\n",
      "3      2023/03/06 17:40:53.649    1  8201A1C7  No Relay     9  129  2755    1\n",
      "4      2023/03/06 17:40:56.399    1  8201A1C7  No Relay    10  141  2755    1\n",
      "...                        ...  ...       ...       ...   ...  ...   ...  ...\n",
      "36428  2023/03/06 18:30:36.516    1  82019C2F  No Relay  1148  159  3100    1\n",
      "36429  2023/03/06 18:30:36.816    1  82019F4E  No Relay  1110  186  3140    1\n",
      "36430  2023/03/06 18:30:37.125    1  82019C9E  No Relay  1079  177  2505    1\n",
      "36431  2023/03/06 18:30:37.520    1  82019E88  No Relay  1114  162  3020    1\n",
      "36432  2023/03/06 18:30:37.765    1  820199D4  No Relay  1111  141  2440    1\n",
      "\n",
      "[36433 rows x 8 columns]\n"
     ]
    }
   ],
   "source": [
    "filename = input('filename:')\n",
    "df = pd.read_csv(filename, encoding='shift-jis',dtype= 'object')\n",
    "df[df.columns[4]] = df[df.columns[4]].astype(int)\n",
    "print(df[df.columns[4]])\n",
    "print(df)"
   ]
  },
  {
   "cell_type": "code",
   "execution_count": 11,
   "id": "94c564ca",
   "metadata": {},
   "outputs": [],
   "source": [
    "df[df.columns[0]] = pd.to_datetime(df[df.columns[0]])"
   ]
  },
  {
   "cell_type": "code",
   "execution_count": 17,
   "id": "c71d9b47",
   "metadata": {},
   "outputs": [
    {
     "name": "stdout",
     "output_type": "stream",
     "text": [
      "0       2023-03-06 17:40:46.219\n",
      "1       2023-03-06 17:40:48.629\n",
      "2       2023-03-06 17:40:51.271\n",
      "3       2023-03-06 17:40:53.649\n",
      "4       2023-03-06 17:40:56.399\n",
      "                  ...          \n",
      "36428   2023-03-06 18:30:36.516\n",
      "36429   2023-03-06 18:30:36.816\n",
      "36430   2023-03-06 18:30:37.125\n",
      "36431   2023-03-06 18:30:37.520\n",
      "36432   2023-03-06 18:30:37.765\n",
      "Name: 時間, Length: 36433, dtype: datetime64[ns]\n"
     ]
    }
   ],
   "source": [
    "print((df[df.columns[0]]))"
   ]
  },
  {
   "cell_type": "code",
   "execution_count": 23,
   "id": "6515f8f2",
   "metadata": {},
   "outputs": [
    {
     "name": "stdout",
     "output_type": "stream",
     "text": [
      "                           時間 論理ID      タグID     中継器ID  送信番号 電波強度  電源電圧 piNo\n",
      "15411 2023-03-06 18:07:19.107    1  82018F34  No Relay   526  168  3030    1\n",
      "15412 2023-03-06 18:07:19.126    1  8201A015  No Relay   453  186  3000    1\n",
      "15413 2023-03-06 18:07:19.201    1  82019F4E  No Relay   580  168  3150    1\n",
      "15414 2023-03-06 18:07:19.266    1  82019A14  No Relay   309  159  3170    1\n",
      "15415 2023-03-06 18:07:19.313    1  82018E07  No Relay   532  177  3100    1\n",
      "...                       ...  ...       ...       ...   ...  ...   ...  ...\n",
      "35952 2023-03-06 18:29:59.769    1  82019BEC  No Relay   981  192  3090    1\n",
      "35953 2023-03-06 18:29:59.834    1  82019D40  No Relay   633  159  3170    1\n",
      "35954 2023-03-06 18:29:59.837    1  82019C2F  No Relay  1134  165  3100    1\n",
      "35955 2023-03-06 18:29:59.860    1  82019F2E  No Relay  1045  156  2615    1\n",
      "35956 2023-03-06 18:29:59.966    1  82019EFE  No Relay   957  144  2940    1\n",
      "\n",
      "[20546 rows x 8 columns]\n"
     ]
    }
   ],
   "source": [
    "allmsdata = df[(df[df.columns[0]] > (pd.to_datetime(\"2023/03/06 18:07:19\"))) & (df[df.columns[0]] < (pd.to_datetime(\"2023/03/06 18:30:00\")))]\n",
    "print(allmsdata)"
   ]
  },
  {
   "cell_type": "code",
   "execution_count": 42,
   "id": "e3ae0984",
   "metadata": {},
   "outputs": [
    {
     "name": "stdout",
     "output_type": "stream",
     "text": [
      "82018DBB\n",
      "82018DC5\n",
      "82018E07\n",
      "82018F34\n",
      "820192A6\n",
      "820194F4\n",
      "8201953A\n",
      "82019543\n",
      "820195E2\n",
      "820198C1\n",
      "820198D4\n",
      "820198F4\n",
      "8201994E\n",
      "820199D4\n",
      "82019A14\n",
      "82019A29\n",
      "82019A5C\n",
      "82019A80\n",
      "82019A92\n",
      "82019AE9\n",
      "82019B2F\n",
      "82019B41\n",
      "82019BEC\n",
      "82019BF6\n",
      "82019C19\n",
      "82019C24\n",
      "82019C2F\n",
      "82019C41\n",
      "82019C62\n",
      "82019C9E\n",
      "82019CF3\n",
      "82019D14\n",
      "82019D40\n",
      "82019D42\n",
      "82019D57\n",
      "82019DEE\n",
      "82019E88\n",
      "82019EBA\n",
      "82019EBB\n",
      "82019EFE\n",
      "82019F0C\n",
      "82019F2E\n",
      "82019F4E\n",
      "8201A015\n",
      "8201A0FF\n",
      "8201A1B6\n",
      "8201A1C7\n",
      "8201A306\n",
      "8201A32E\n",
      "8201A33C\n",
      "number of tag:50\n",
      "0.7969002392817932\n"
     ]
    }
   ],
   "source": [
    "tagnum = 0\n",
    "testlist = []\n",
    "for tag in allmsdata.groupby(df.columns[2]):\n",
    "    print(tag[0])\n",
    "    tagdata = tag[1]\n",
    "    datanums = tagdata[tagdata.columns[4]]\n",
    "    ideal = datanums.max()-datanums.min()\n",
    "    actual = len(datanums)\n",
    "    #print (actual/ideal)\n",
    "    testlist.append(actual/ideal)\n",
    "    tagnum += 1\n",
    "print('number of tag:' + str(tagnum))\n",
    "print(statistics.mean(testlist))"
   ]
  },
  {
   "cell_type": "code",
   "execution_count": null,
   "id": "a3cc8f04",
   "metadata": {},
   "outputs": [],
   "source": []
  }
 ],
 "metadata": {
  "kernelspec": {
   "display_name": "Python 3 (ipykernel)",
   "language": "python",
   "name": "python3"
  },
  "language_info": {
   "codemirror_mode": {
    "name": "ipython",
    "version": 3
   },
   "file_extension": ".py",
   "mimetype": "text/x-python",
   "name": "python",
   "nbconvert_exporter": "python",
   "pygments_lexer": "ipython3",
   "version": "3.10.0"
  }
 },
 "nbformat": 4,
 "nbformat_minor": 5
}
